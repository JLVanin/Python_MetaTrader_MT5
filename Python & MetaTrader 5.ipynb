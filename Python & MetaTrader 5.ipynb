{
 "cells": [
  {
   "cell_type": "markdown",
   "id": "a1ea4646-4b4c-4531-a53b-5e4e846514a5",
   "metadata": {
    "id": "a1ea4646-4b4c-4531-a53b-5e4e846514a5"
   },
   "source": [
    "---\n",
    "# **Python & Plataformas de Trading** \n",
    "---\n",
    "### *Disclaimer:*\n",
    "Este código foi elaborado para fins exclusivamente educacionais. O conteúdo aqui apresentado visa fornecer informações complementares para auxiliar o investidor na tomada de suas próprias decisões de investimento. Reforçando, nenhum tópico aqui abordado constitui qualquer tipo de indicação/oferta/solicitação de compra/venda de qualquer produto.<br/>\n",
    "<br/>\n",
    "\n",
    "\n",
    "---"
   ]
  },
  {
   "cell_type": "markdown",
   "id": "ba869e3b-bbab-4c74-a2a7-5706599d6091",
   "metadata": {
    "id": "ba869e3b-bbab-4c74-a2a7-5706599d6091",
    "tags": []
   },
   "source": [
    "## 1. Bibliotecas"
   ]
  },
  {
   "cell_type": "code",
   "execution_count": null,
   "id": "5e8d9809",
   "metadata": {
    "colab": {
     "base_uri": "https://localhost:8080/"
    },
    "executionInfo": {
     "elapsed": 2567,
     "status": "ok",
     "timestamp": 1653482663152,
     "user": {
      "displayName": "Arthur Rufino",
      "userId": "15163371346106554840"
     },
     "user_tz": 180
    },
    "id": "5e8d9809",
    "outputId": "89f355bb-b3a4-4b53-edf7-48b2475c751a"
   },
   "outputs": [],
   "source": [
    "# Instale a biblioteca do Metatrader após ter concluído a configuração junto a sua corretora\n",
    "!pip install MetaTrader5"
   ]
  },
  {
   "cell_type": "code",
   "execution_count": null,
   "id": "df174e01",
   "metadata": {
    "colab": {
     "base_uri": "https://localhost:8080/"
    },
    "executionInfo": {
     "elapsed": 3924,
     "status": "ok",
     "timestamp": 1653482622812,
     "user": {
      "displayName": "Arthur Rufino",
      "userId": "15163371346106554840"
     },
     "user_tz": 180
    },
    "id": "df174e01",
    "outputId": "60a808ad-4576-4d59-c535-62eb7ab73585"
   },
   "outputs": [],
   "source": [
    "!pip install plotly"
   ]
  },
  {
   "cell_type": "code",
   "execution_count": null,
   "id": "863e2582-1857-4c34-b6c3-53ec1316c97b",
   "metadata": {
    "id": "863e2582-1857-4c34-b6c3-53ec1316c97b"
   },
   "outputs": [],
   "source": [
    "# Análise e manipulação de dados\n",
    "\n",
    "import numpy as np\n",
    "import pandas as pd"
   ]
  },
  {
   "cell_type": "code",
   "execution_count": null,
   "id": "2bf9fcc2-270e-4e56-93b8-cd97f62e77e0",
   "metadata": {
    "id": "2bf9fcc2-270e-4e56-93b8-cd97f62e77e0"
   },
   "outputs": [],
   "source": [
    "# Análises gráficas\n",
    "\n",
    "import matplotlib.pyplot as plt\n",
    "import plotly.express as px\n",
    "import plotly.graph_objects as go\n",
    "from plotly.subplots import make_subplots\n",
    "\n",
    "from pandas.plotting import register_matplotlib_converters\n",
    "register_matplotlib_converters()"
   ]
  },
  {
   "cell_type": "code",
   "execution_count": null,
   "id": "3f1c1c20-b1f8-4a53-9512-0fcc4411c40f",
   "metadata": {
    "id": "3f1c1c20-b1f8-4a53-9512-0fcc4411c40f"
   },
   "outputs": [],
   "source": [
    "# Dados séries temporais\n",
    "\n",
    "from datetime import datetime\n",
    "import time\n",
    "import pytz"
   ]
  },
  {
   "cell_type": "code",
   "execution_count": null,
   "id": "38b8437c-4d22-41de-a995-e0347712e977",
   "metadata": {
    "colab": {
     "base_uri": "https://localhost:8080/",
     "height": 339
    },
    "executionInfo": {
     "elapsed": 793,
     "status": "error",
     "timestamp": 1653482632512,
     "user": {
      "displayName": "Arthur Rufino",
      "userId": "15163371346106554840"
     },
     "user_tz": 180
    },
    "id": "38b8437c-4d22-41de-a995-e0347712e977",
    "outputId": "c573b7b7-001c-42ed-9ecd-0f4fb705c6a2"
   },
   "outputs": [],
   "source": [
    "# Integração com MetaTrader 5\n",
    "\n",
    "import MetaTrader5 as mt5"
   ]
  },
  {
   "cell_type": "markdown",
   "id": "8bde0aed-5b55-4895-ae23-c222b95a0cb1",
   "metadata": {
    "id": "8bde0aed-5b55-4895-ae23-c222b95a0cb1",
    "tags": []
   },
   "source": [
    "## 2. Estrutura básica do MetaTrader 5 (MT5) usando Python"
   ]
  },
  {
   "cell_type": "markdown",
   "id": "6d766001-9163-48eb-a383-be8275b995e2",
   "metadata": {
    "id": "6d766001-9163-48eb-a383-be8275b995e2"
   },
   "source": [
    "Apesar de ser construído em outra linguagem (MQL5), o Metatrader desenvolveu um ramo em sua plataforma para abrigar a linguagem Python.<br/>\n",
    "A linguagem MQL5 (próxima à C++) é muito mais extensa e complexa. A integraçao ao Python tem trazido um número cada vez maior de usuários ao MT5 e facilitado a troca de códigos entre traders"
   ]
  },
  {
   "cell_type": "markdown",
   "id": "8e65c51f-dc90-4285-b497-46ea94966b8e",
   "metadata": {
    "id": "8e65c51f-dc90-4285-b497-46ea94966b8e"
   },
   "source": [
    "### 2.1. Integração do MT5 ao Python"
   ]
  },
  {
   "cell_type": "code",
   "execution_count": null,
   "id": "616cb82d-8163-4e5f-ab80-fa2d25272053",
   "metadata": {
    "id": "616cb82d-8163-4e5f-ab80-fa2d25272053",
    "outputId": "1f76c2bd-07fd-4ada-a644-8c1880d6a7d3"
   },
   "outputs": [],
   "source": [
    "# Iniciar o MT5 (se OK aparecerá True)\n",
    "\n",
    "mt5.initialize()"
   ]
  },
  {
   "cell_type": "code",
   "execution_count": null,
   "id": "e4cb6aa3-eb27-41fb-b15e-a80a4b6f30a2",
   "metadata": {
    "id": "e4cb6aa3-eb27-41fb-b15e-a80a4b6f30a2",
    "outputId": "541d0457-8e06-4f64-b13a-b1c5532fb946"
   },
   "outputs": [],
   "source": [
    "# Número de símbolos (tickers, ativos) no MT5\n",
    "\n",
    "mt5.symbols_total()"
   ]
  },
  {
   "cell_type": "code",
   "execution_count": null,
   "id": "ca87d18a-2c32-4112-a62c-4e07d66a968b",
   "metadata": {
    "id": "ca87d18a-2c32-4112-a62c-4e07d66a968b",
    "outputId": "7ceaea82-1549-465b-cea3-8af15ee67edc"
   },
   "outputs": [],
   "source": [
    "# Obter todos os símbolos\n",
    "\n",
    "symbols = mt5.symbols.get()\n",
    "print('Total símbolos: ', len(symbols))"
   ]
  },
  {
   "cell_type": "code",
   "execution_count": null,
   "id": "055aa9ec-8965-459d-97b0-9b293d7e4cb7",
   "metadata": {
    "id": "055aa9ec-8965-459d-97b0-9b293d7e4cb7",
    "outputId": "2785db21-c034-4489-cc8e-4f56007f691d"
   },
   "outputs": [],
   "source": [
    "# Exibir o total de símbolos que contém \"PETR\" (para não extrapolar o output)\n",
    "# Imprimir os 10 primeiros\n",
    "\n",
    "PETR_symbols=mt5.symbols_get('*PETR*')\n",
    "\n",
    "print('Total símbolos contendo \"PETR\": ',)\n",
    "for i in PETR_symbols[0:10]:\n",
    "    print(i.name)"
   ]
  },
  {
   "cell_type": "markdown",
   "id": "5754e2e7-2221-4eb6-b851-6ea71729522a",
   "metadata": {
    "id": "5754e2e7-2221-4eb6-b851-6ea71729522a"
   },
   "source": [
    "### 2.2. Configurar os ativos desejados"
   ]
  },
  {
   "cell_type": "code",
   "execution_count": null,
   "id": "ca41b928-8db2-493b-8ef6-5059c394dc35",
   "metadata": {
    "id": "ca41b928-8db2-493b-8ef6-5059c394dc35"
   },
   "outputs": [],
   "source": [
    "# Incluir o símbolo desejado na janela \"Observação do Mercado\" (MarketWatch) do MT5\n",
    "# Note que o ativo aparecerá dentre os demais caso não estivesse antes\n",
    "\n",
    "ativo = \"VALE3\"\n",
    "selected=mt5.symbol_select(ativo,True)\n",
    "if not selected:\n",
    "    print(ativo,\"não localizado\")"
   ]
  },
  {
   "cell_type": "code",
   "execution_count": null,
   "id": "adc1ea0d-4b74-488b-a657-e3e15aa24da7",
   "metadata": {
    "id": "adc1ea0d-4b74-488b-a657-e3e15aa24da7",
    "outputId": "67ed8f37-a7ed-44b8-9565-e2f0a19e646a"
   },
   "outputs": [],
   "source": [
    "# Testando com um ativo que não existe\n",
    "\n",
    "ativo_errado = \"VALE2\"\n",
    "selected=mt5.symbol_select(ativo_errado,True)\n",
    "if not selected:\n",
    "    print(ativo_errado,\"não localizado\")"
   ]
  },
  {
   "cell_type": "code",
   "execution_count": null,
   "id": "1a404fe6-2f70-4d35-a532-ab8e2557e785",
   "metadata": {
    "id": "1a404fe6-2f70-4d35-a532-ab8e2557e785",
    "outputId": "5160e7e5-7c9d-42e9-ffd9-fee9dc21ce90"
   },
   "outputs": [],
   "source": [
    "# Obter as propriedades do ativo desejado em forma de lista\n",
    "\n",
    "symbol_info=mt5.symbol_info(ativo)\n",
    "\n",
    "if symbol_info!=None:\n",
    "    print(\"Informações gerais de '\"+ativo+\"':\")\n",
    "    symbol_info_dict = mt5.symbol_info(ativo)._asdict()\n",
    "    for prop in symbol_info_dict:\n",
    "        print(\"  {}={}\".format(prop, symbol_info_dict[prop]))"
   ]
  },
  {
   "cell_type": "code",
   "execution_count": null,
   "id": "a9ce7ca8-1422-4b96-b9c2-f96ade925bb7",
   "metadata": {
    "id": "a9ce7ca8-1422-4b96-b9c2-f96ade925bb7",
    "outputId": "481921f2-eccc-4870-dae2-8ccd42e9d2fd"
   },
   "outputs": [],
   "source": [
    "# Informações do último tick do ativo\n",
    "\n",
    "lasttick=mt5.symbol_info_tick(ativo)\n",
    "print(\"Mostrar informações do último tick de '\"+ativo+\"':\")\n",
    "symbol_info_tick_dict = mt5.symbol_info_tick(ativo)._asdict()\n",
    "for prop in symbol_info_tick_dict:\n",
    "    print(\"  {}={}\".format(prop, symbol_info_tick_dict[prop]))"
   ]
  },
  {
   "cell_type": "code",
   "execution_count": null,
   "id": "dc869ad3-a56a-40fb-833e-409e40b08271",
   "metadata": {
    "id": "dc869ad3-a56a-40fb-833e-409e40b08271",
    "outputId": "ab68d17c-5dd2-47a6-9443-a68689db2749"
   },
   "outputs": [],
   "source": [
    "# Receber notificações sobre mudanças no book de ofertas (depth of market, DOM) para o símbolo especificado\n",
    "# DOM muito utilizado em Tape Reading\n",
    "\n",
    "#Criar um loop para obtermos 3 vezes os dados do book de ofertas do ativo.\n",
    "#Configuramos uma pausa de 10 segundos entre cada acesso ao book.\n",
    "#Por fim, encerramos o acesso ao book daquele ativo"
   ]
  },
  {
   "cell_type": "code",
   "execution_count": null,
   "id": "75e73e94-0339-46b0-baf4-c863cb425b27",
   "metadata": {
    "id": "75e73e94-0339-46b0-baf4-c863cb425b27",
    "outputId": "54c49161-ba1c-4576-aeab-2b0511d654af",
    "tags": []
   },
   "outputs": [],
   "source": [
    "ativo = 'PETR3'\n",
    "mt5.market_book_add(ativo)\n",
    "\n",
    "if mt5.market_book_add(ativo):\n",
    "  # Obtemos 3 vezes em um loop os dados do livro de ofertas\n",
    "   for i in range(4):\n",
    "        # Obtemos o conteúdo do book de ofertas (Depth of Market)\n",
    "        items = mt5.market_book_get(ativo)\n",
    "        # Exibimos cada solicitação separadamente para maior clareza\n",
    "        if items:\n",
    "            for it in items:\n",
    "                print(it._asdict())\n",
    "        # Vamos fazer uma pausa de 10 segundos antes da próxima solicitação de dados do book de ofertas\n",
    "        # Inserir uma linha para separar cada loop\n",
    "        print(\"--------------------\")\n",
    "        time.sleep(5)\n",
    "  # Cancelamos a subscrição de atualizações no book de ofertas (Depth of Market)\n",
    "   mt5.market_book_release(ativo)\n",
    "    \n",
    "# Caso o ativo não seja encontrado ou ocorra algum outro tipo de erro\n",
    "else:\n",
    "    print(\"Falha ao acessar DOM de ''\",ativo,\"'', error code =\",mt5.last_error())"
   ]
  },
  {
   "cell_type": "markdown",
   "id": "07b24f05-514f-41c0-9e26-5ea9913b4aff",
   "metadata": {
    "id": "07b24f05-514f-41c0-9e26-5ea9913b4aff"
   },
   "source": [
    "### 2.3. Extrair dados cotações históricas"
   ]
  },
  {
   "cell_type": "markdown",
   "id": "f647567f-d110-41ab-a47f-aa276adab65f",
   "metadata": {
    "id": "f647567f-d110-41ab-a47f-aa276adab65f"
   },
   "source": [
    "| Intervalo Tempo |\t| Código MT5 |\t|   |\t| Intervalo Tempo |\t| Código MT5 |\n",
    "|---|\t|---|\t|---|\t|---|\t|---|\n",
    "| 1 minuto|\t|TIMEFRAME_M1 |\t|   |\t| 1 hora|\t|TIMEFRAME_H1 |\n",
    "| 2 minutos|\t|TIMEFRAME_M2 |\t|   |\t| 2 horas|\t|TIMEFRAME_H2 |\n",
    "| 3 minutos|\t|TIMEFRAME_M3 |\t|   |\t| 3 horas|\t|TIMEFRAME_H3 |\n",
    "| 4 minutos|\t|TIMEFRAME_M4 |\t|   |\t| 4 horas|\t|TIMEFRAME_H4 |\n",
    "| 5 minutos|\t|TIMEFRAME_M5 |\t|   |\t| 6 horas|\t|TIMEFRAME_H6 |\n",
    "| 6 minutos|\t|TIMEFRAME_M6 |\t|   |\t| 8 horas|\t|TIMEFRAME_H8 |\n",
    "| 10 minutos|\t|TIMEFRAME_M10 |\t|   |\t| 12 horas|\t|TIMEFRAME_H12 |\n",
    "| 12 minutos|\t|TIMEFRAME_M12 |\t|   |\t| 1 dia|\t|TIMEFRAME_D1 |\n",
    "| 15 minutos|\t|TIMEFRAME_M15 |\t|   |\t| 1 semana|\t|TIMEFRAME_W1 |\n",
    "| 20 minutos|\t|TIMEFRAME_M20 |\t|   |\t| 1 mês |\t|TIMEFRAME_MN1 |\n",
    "| 30 minutos|\t|TIMEFRAME_M30 |\t|   |\t||\t||"
   ]
  },
  {
   "cell_type": "markdown",
   "id": "b9573ace-337e-42e0-ab1d-a184c49a1523",
   "metadata": {
    "id": "b9573ace-337e-42e0-ab1d-a184c49a1523"
   },
   "source": [
    "É preciso ajustar o fuso horário dos dados do MT5 (estão em UTC - Coordinated Universal Time)<br/>\n",
    "O horário de Brasília = UTC - 3h. No caso da lib pytz, \"America/Sao_Paulo\"<br/>\n",
    "Primeiro listamos os fusos 'mais comuns'"
   ]
  },
  {
   "cell_type": "code",
   "execution_count": null,
   "id": "ef7b1b3a-9871-4815-805b-b33d4dceb4b8",
   "metadata": {
    "id": "ef7b1b3a-9871-4815-805b-b33d4dceb4b8",
    "outputId": "c6e32754-d22e-4012-f2ea-d93eedf2cbae"
   },
   "outputs": [],
   "source": [
    "pytz.common_timezones[0:5]"
   ]
  },
  {
   "cell_type": "code",
   "execution_count": null,
   "id": "01b173b2-58ff-485f-a5d0-09c11008d3b2",
   "metadata": {
    "id": "01b173b2-58ff-485f-a5d0-09c11008d3b2"
   },
   "outputs": [],
   "source": [
    "# Horário oficial de Brasília\n",
    "\n",
    "timezone = pytz.timezone(\"America/Sao_Paulo\")"
   ]
  },
  {
   "cell_type": "code",
   "execution_count": null,
   "id": "ab724293-cdbe-4b7f-a5da-73dbec8c836e",
   "metadata": {
    "id": "ab724293-cdbe-4b7f-a5da-73dbec8c836e"
   },
   "outputs": [],
   "source": [
    "# Definir data inicial e data final, neste formato\n",
    "\n",
    "data_inicio = datetime(2022,1,1, tzinfo=timezone)\n",
    "data_fim = datetime(2022,6,14, tzinfo=timezone)"
   ]
  },
  {
   "cell_type": "markdown",
   "id": "e17f7894-7604-4df2-81c0-dd8ceabae31d",
   "metadata": {
    "id": "e17f7894-7604-4df2-81c0-dd8ceabae31d"
   },
   "source": [
    "Informar o **ativo**, o **timeframe** (intervalo de tempo dos candles), a **data inicial** e a **data final**<br/>\n",
    "Note que se eu quero os candles de hoje, colocarei a data_fim como amanhã"
   ]
  },
  {
   "cell_type": "code",
   "execution_count": null,
   "id": "624dd916-415d-4115-949e-120273dd302f",
   "metadata": {
    "id": "624dd916-415d-4115-949e-120273dd302f"
   },
   "outputs": [],
   "source": [
    "cotacoes = mt5.copy_rates_range(ativo, mt5.TIMEFRAME_M5, data_inicio,data_fim)"
   ]
  },
  {
   "cell_type": "markdown",
   "id": "fe8cc31d-ad42-4cac-b9d9-1ce0cddb21a2",
   "metadata": {
    "id": "fe8cc31d-ad42-4cac-b9d9-1ce0cddb21a2"
   },
   "source": [
    "Obs: Existem outras duas formas de obtenção de cotações históricas por timeframes e por ticks de negociação:<br/>\n",
    "- copy_rates_from<br/>\n",
    "- copy_rates_from_pos<br/>\n",
    "- copy_ticks_from<br/>\n",
    "- copy_ticks_range<br/>\n",
    "\n",
    "Entretanto é preciso determinar o número de barras inicial/numero de barras \"para trás\"... (acredito tornam essas funções menos funcionais, mas podem ser encontradas na documentação MQL5)<br/>\n",
    "São mais interessantes quanto estivermos criando robôs"
   ]
  },
  {
   "cell_type": "code",
   "execution_count": null,
   "id": "6bb19577-2271-4c95-921c-a758b5eb29bf",
   "metadata": {
    "id": "6bb19577-2271-4c95-921c-a758b5eb29bf",
    "outputId": "80e91d35-0783-4b7d-dbc5-d9c21248d6ed"
   },
   "outputs": [],
   "source": [
    "# Chamarmos o objeto cotações\n",
    "# O formato está em array é difícil de se manipular\n",
    "\n",
    "cotacoes[0:10]"
   ]
  },
  {
   "cell_type": "code",
   "execution_count": null,
   "id": "9afa9d9c-6b24-41f7-8e33-20cae6597429",
   "metadata": {
    "id": "9afa9d9c-6b24-41f7-8e33-20cae6597429",
    "outputId": "76b01059-db70-413f-bf6c-de9819c1cee0"
   },
   "outputs": [],
   "source": [
    "# Convertemos o array para dataframe\n",
    "\n",
    "cotacoes_df = pd.DataFrame(cotacoes)\n",
    "cotacoes_df.head()"
   ]
  },
  {
   "cell_type": "code",
   "execution_count": null,
   "id": "e9d23962-0e5e-45ac-8ddb-23f83416e7e7",
   "metadata": {
    "id": "e9d23962-0e5e-45ac-8ddb-23f83416e7e7",
    "outputId": "9b63086a-9097-477c-fbbb-5c6c51c81d5e"
   },
   "outputs": [],
   "source": [
    "# Transformar a coluna \"time\" para o formato de data e hora padrão\n",
    "\n",
    "cotacoes_df['time']=pd.to_datetime(cotacoes_df['time'], unit='s')\n",
    "cotacoes_df"
   ]
  },
  {
   "cell_type": "code",
   "execution_count": null,
   "id": "b6e6dc74-4b6d-4f87-9ff4-71c673806c0c",
   "metadata": {
    "id": "b6e6dc74-4b6d-4f87-9ff4-71c673806c0c",
    "outputId": "e27c91cf-8f66-4c77-82f3-e668fbc35f5e"
   },
   "outputs": [],
   "source": [
    "# Plotar os preços de fechamento do dataframe\n",
    "# O eixo x não aparece como data\n",
    "\n",
    "cotacoes_df.close.plot(figsize = (13,8));"
   ]
  },
  {
   "cell_type": "code",
   "execution_count": null,
   "id": "adeac3af-5f49-4af7-b44e-d00400c5e96a",
   "metadata": {
    "id": "adeac3af-5f49-4af7-b44e-d00400c5e96a",
    "outputId": "7769b87a-b912-4a6d-f46d-e63469300ab4"
   },
   "outputs": [],
   "source": [
    "# Transformar a coluna 'time' para o índice do dataframe\n",
    "\n",
    "cotacoes_df.index = cotacoes_df['time']\n",
    "cotacoes_df.head()"
   ]
  },
  {
   "cell_type": "markdown",
   "id": "b8891dcb-f40a-4a0c-9cce-95d1f6b41610",
   "metadata": {
    "id": "b8891dcb-f40a-4a0c-9cce-95d1f6b41610"
   },
   "source": [
    "Após transformarmos o índice, se plotarmos com um zoom nos últimos 100 candles, notamos que ele preenche os valores das horas (e também dos dias) sem pregão"
   ]
  },
  {
   "cell_type": "code",
   "execution_count": null,
   "id": "6549ac7d-b6ac-49ba-b5db-c6dc16c67c9b",
   "metadata": {
    "id": "6549ac7d-b6ac-49ba-b5db-c6dc16c67c9b",
    "outputId": "f77c6682-cdd2-4ba0-e704-80bf56067aeb"
   },
   "outputs": [],
   "source": [
    "# Observar as horas entre o fechamento de um dia e abertura de outro dia\n",
    "\n",
    "cotacoes_df[-100:].close.plot();"
   ]
  },
  {
   "cell_type": "markdown",
   "id": "fe1fae2e-7ebc-46f0-83e0-35434a72e517",
   "metadata": {
    "id": "fe1fae2e-7ebc-46f0-83e0-35434a72e517"
   },
   "source": [
    "O uso de bibliotecas mais potentes para vizualização gráfica.<br/>\n",
    "Usando a Plotly, produziremos um gráfico de candlesticks, filtrando finais de semana, horas sem pregão para determinado ativo e feriados (filtros específicos podem ser feitos separadamente)<br/>\n",
    "Note que o gráfico é interativo"
   ]
  },
  {
   "cell_type": "code",
   "execution_count": null,
   "id": "3abb94b9-7868-4013-ba98-a11d16bb4875",
   "metadata": {
    "id": "3abb94b9-7868-4013-ba98-a11d16bb4875",
    "outputId": "2922bc9e-682f-47ba-9cf2-772f337df119",
    "tags": []
   },
   "outputs": [],
   "source": [
    "fig_cotacoes = go.Figure(data=[go.Candlestick(name=\"PETR3\",x=cotacoes_df.index, open=cotacoes_df['open'], high = cotacoes_df['high'], low=cotacoes_df['low'], close=cotacoes_df['close'])])\n",
    "\n",
    "fig_cotacoes.update_xaxes(title_text=\"<b> Data\",\n",
    "                          rangebreaks=[\n",
    "    dict(bounds=[\"sat\", \"mon\"]), # não mostrar finais de semana\n",
    "    dict(bounds=[18, 10], pattern=\"hour\"), # não mostrar horas de pregao fechado (observar cada ativo específico)\n",
    "    dict(values=[\"2021-12-25\",\"2022-01-01\",\"2022-01-02\"]) # não mostrar recesso de Ano Novo\n",
    "    ])\n",
    "\n",
    "fig_cotacoes.update_yaxes(title_text=\"<b> Preço Ativo (R$)\")\n",
    "fig_cotacoes.update_layout(xaxis_rangeslider_visible=False, title_text='Grafico Candlestick Ativo',template = 'simple_white',width=1000,height=500,showlegend=True)\n",
    "fig_cotacoes.show()"
   ]
  },
  {
   "cell_type": "markdown",
   "id": "c12e3558-e3d4-4ae1-96de-1c61d5fa5815",
   "metadata": {
    "id": "c12e3558-e3d4-4ae1-96de-1c61d5fa5815"
   },
   "source": [
    "### 2.4 Checar posição atual e ordens pendentes"
   ]
  },
  {
   "cell_type": "code",
   "execution_count": null,
   "id": "d66f0307-a2ce-487f-adfb-b54316eb6e9d",
   "metadata": {
    "id": "d66f0307-a2ce-487f-adfb-b54316eb6e9d",
    "outputId": "3043153f-964b-4f40-9d38-afa76966194e",
    "tags": []
   },
   "outputs": [],
   "source": [
    "# Checar a moeda configurada na conta\n",
    "\n",
    "account_currency=mt5.account_info().currency\n",
    "print(\"Account currency:\",account_currency)"
   ]
  },
  {
   "cell_type": "code",
   "execution_count": null,
   "id": "cc6e8c41-559a-4528-9133-2f8bef0bd1e2",
   "metadata": {
    "id": "cc6e8c41-559a-4528-9133-2f8bef0bd1e2",
    "outputId": "d35fc1ad-2e8b-4ddb-f727-d2005ed19ab4"
   },
   "outputs": [],
   "source": [
    "# Verificar a presença de ordens pendentes no geral\n",
    "\n",
    "orders=mt5.orders_total()\n",
    "if orders>0:\n",
    "    print(\"Total de ordens=\",orders)\n",
    "else:\n",
    "    print(\"Nenhuma ordem encontrada\")"
   ]
  },
  {
   "cell_type": "code",
   "execution_count": null,
   "id": "a969d6fc-0f20-4e09-8a47-2e35678f4d86",
   "metadata": {
    "id": "a969d6fc-0f20-4e09-8a47-2e35678f4d86",
    "outputId": "baf94f3c-3c98-4c9d-a6b6-46c19fcc22a0"
   },
   "outputs": [],
   "source": [
    "# Detalhar as ordens de um ativo específico\n",
    "\n",
    "ativo=\"MGLU3\"\n",
    "orders=mt5.orders_get(symbol=ativo)\n",
    "\n",
    "if orders is None:\n",
    "    print(\"Nenhuma ordem encontrada para\",ativo,\"error code={}\".format(mt5.last_error()))\n",
    "else:\n",
    "    print(\"Total de ordens =\",len(orders))\n",
    "    # exibimos todas as ordens ativas\n",
    "    for order in orders:\n",
    "        print(order)\n",
    "print()"
   ]
  },
  {
   "cell_type": "markdown",
   "id": "968d9175-c6c9-4ca2-8a00-25a30514b347",
   "metadata": {
    "id": "968d9175-c6c9-4ca2-8a00-25a30514b347"
   },
   "source": [
    "### 2.5 Configurar uma ordem de Compra a Mercado"
   ]
  },
  {
   "cell_type": "markdown",
   "id": "6e23b2e1-3bba-4d62-8bd2-45d2dd40890c",
   "metadata": {
    "id": "6e23b2e1-3bba-4d62-8bd2-45d2dd40890c"
   },
   "source": [
    "Preparamos a estrutura de solicitação para compra a Mercado<br/>\n",
    "Outros tipos de ordem (Limite e Stop) são discutidas em tópicos posteriores<br/>\n",
    "Garantir que o símbolo está no MarketWatch do MT5"
   ]
  },
  {
   "cell_type": "code",
   "execution_count": null,
   "id": "b3f21781-8b08-4bdf-a98e-adbea0954c4f",
   "metadata": {
    "id": "b3f21781-8b08-4bdf-a98e-adbea0954c4f",
    "outputId": "c4e8ebc9-a706-4e5f-89ac-5f06242e5ab8"
   },
   "outputs": [],
   "source": [
    "symbol = \"VALE3\"\n",
    "mt5.symbol_select(symbol,True)\n",
    "symbol_info = mt5.symbol_info(symbol)\n",
    "symbol_info"
   ]
  },
  {
   "cell_type": "markdown",
   "id": "6a196fad-739d-434e-8b38-c77d4faf08c2",
   "metadata": {
    "id": "6a196fad-739d-434e-8b38-c77d4faf08c2"
   },
   "source": [
    "**Configurar:**<br/>\n",
    "Quantidade = número de ações/contrato (float, colocar  \".0\" );<br/>\n",
    "Pontos = tick mínimo do ativo (ex., para ações usualmente R\\$ 0.01, WINFUT 5pts);<br/>\n",
    "Preco = preço de compra (colocamos no ask do ativo para executar a mercado);<br/>\n",
    "Desvio_toler = Desvio máximo aceitável em relação ao preço solicitado (em pontos). Também é conhecido como 'offset' de ordem"
   ]
  },
  {
   "cell_type": "code",
   "execution_count": null,
   "id": "8380ca09-7dd1-48c8-8c3f-f0dc0db2d441",
   "metadata": {
    "id": "8380ca09-7dd1-48c8-8c3f-f0dc0db2d441"
   },
   "outputs": [],
   "source": [
    "qtd = 500.0\n",
    "tick_min = mt5.symbol_info(symbol).point\n",
    "preco = mt5.symbol_info_tick(symbol).ask\n",
    "desvio_toler = 30\n",
    "\n",
    "ordem_compra = {\n",
    "    \"action\": mt5.TRADE_ACTION_DEAL, # tipo de ordem (a mercado)\n",
    "    \"symbol\": symbol, # ativo\n",
    "    \"volume\": 100.0, # quantidade de ações\n",
    "    \"type\": mt5.ORDER_TYPE_BUY, # compra a mercado\n",
    "    \"price\": preco, # preço de compra, aqui definido como ask do ativo (melhor preço de venda do book)\n",
    "    \"sl\": preco - 100 * tick_min, #stop loss (preço de entrada - 100 ticks mínimos)\n",
    "    \"tp\": preco + 30 * tick_min, #take profit (preço de entrada + 100 ticks mínimos)\n",
    "    \"deviation\": desvio_toler, #ordem offset\n",
    "    \"magic\": 1, # identificar a operação (opcional)\n",
    "    \"comment\": \"Primeiros trades Python\", # comentario para a ordem (opcional)\n",
    "    \"type_time\": mt5.ORDER_TIME_DAY, # 'validade' da ordem. Nesse caso, ordem será válida apenas durante o dia de negociação atual\n",
    "    \"type_filling\": mt5.ORDER_FILLING_RETURN, # ordem pode ser executada parcialmente, e manter o residual nao executado para uma nova entrada\n",
    "}"
   ]
  },
  {
   "cell_type": "code",
   "execution_count": null,
   "id": "14fb7a77",
   "metadata": {
    "id": "14fb7a77",
    "outputId": "ce3873a5-7e22-4eac-bcc7-284e1d35d9a0"
   },
   "outputs": [],
   "source": [
    "mt5.order_check(ordem_compra)"
   ]
  },
  {
   "cell_type": "code",
   "execution_count": null,
   "id": "1554f44f-6c02-4657-9878-e8fac8b5a3ff",
   "metadata": {
    "id": "1554f44f-6c02-4657-9878-e8fac8b5a3ff",
    "outputId": "d5c58195-c5ed-46d0-da5f-ce2f65d6db90"
   },
   "outputs": [],
   "source": [
    "# Checar a estrutura da ordem\n",
    "\n",
    "result_compra = mt5.order_check(ordem_compra)\n",
    "print(\"Estrutura da ordem nº\",ordem_compra['magic'],'\"'+ordem_compra['comment']+'\"')\n",
    "result_dict=result_compra._asdict()\n",
    "for field in result_dict.keys():\n",
    "    print(\"   {}={}\".format(field,result_dict[field]))\n",
    "    # se esta for uma estrutura de uma solicitação de negociação, também a exibiremos elemento a elemento\n",
    "    if field==\"ordem_compra\":\n",
    "        traderequest_dict=result_dict[field]._asdict()\n",
    "        for tradereq_filed in traderequest_dict:\n",
    "            print(\"       traderequest: {}={}\".format(tradereq_filed,traderequest_dict[tradereq_filed]))\n",
    " "
   ]
  },
  {
   "cell_type": "markdown",
   "id": "c9b60cc7-5ca4-4123-ada5-60c0901c7a0e",
   "metadata": {
    "id": "c9b60cc7-5ca4-4123-ada5-60c0901c7a0e"
   },
   "source": [
    "### 2.6 Enviar uma ordem de compra (configurada anteriormente) ao MT5"
   ]
  },
  {
   "cell_type": "code",
   "execution_count": null,
   "id": "13773a9e-2ee1-4867-bf4f-9ba8ea258038",
   "metadata": {
    "id": "13773a9e-2ee1-4867-bf4f-9ba8ea258038"
   },
   "outputs": [],
   "source": [
    "# Enviar a solicitação de negociação\n",
    "\n",
    "result_compra = mt5.order_send(ordem_compra)"
   ]
  },
  {
   "cell_type": "markdown",
   "id": "8fcbd65d-58e6-484b-9239-924ea9819e07",
   "metadata": {
    "id": "8fcbd65d-58e6-484b-9239-924ea9819e07"
   },
   "source": [
    "Verificar o resultado da execução"
   ]
  },
  {
   "cell_type": "code",
   "execution_count": null,
   "id": "9c4b539a-383b-4fb5-8b78-bf84a4986a15",
   "metadata": {
    "id": "9c4b539a-383b-4fb5-8b78-bf84a4986a15",
    "outputId": "102b6072-78bf-42d2-8291-00083915735c"
   },
   "outputs": [],
   "source": [
    "print(\"1. Ordem_enviada para {}, {} ações a {} com tolerancia de {} pontos\".format(symbol,qtd,preco,desvio_toler));\n",
    "\n",
    "## Se ordem não pôde ser enviada, informar os detalhes\n",
    "if result_compra.retcode != mt5.TRADE_RETCODE_DONE:\n",
    "    print(\"2. ENVIO DE ORDEM FALHOU !!!, retcode={}\".format(result_compra.retcode))\n",
    "   # solicitamos o resultado na forma de dicionário e exibimos elemento por elemento\n",
    "    result_dict=result._asdict()\n",
    "    for field in result_dict.keys():\n",
    "        print(\"   {}={}\".format(field,result_dict[field]))\n",
    "        #se esta for uma estrutura de uma solicitação de negociação, também a exibiremos elemento a elemento\n",
    "        if field==\"ordem_compra\":\n",
    "            traderequest_dict=result_dict[field]._asdict()\n",
    "            for tradereq_filed in traderequest_dict:\n",
    "                print(\"       traderequest: {}={}\".format(tradereq_filed,traderequest_dict[tradereq_filed]))\n",
    "    print(\"CANCELAR E FECHAR\")\n",
    "\n",
    "else: ## Se ordem foi executada corretamenteda informar os detalhes\n",
    "    print(\"2. ENVIO DE ORDEM EXECUTADO COM SUCESSO !!!, \", result_compra)\n",
    "    print(\"   POSITION_TICKET={}\".format(result_compra.order))"
   ]
  },
  {
   "cell_type": "markdown",
   "id": "eb29be91-7e49-4b8e-83ba-0f779ec65c02",
   "metadata": {
    "id": "eb29be91-7e49-4b8e-83ba-0f779ec65c02"
   },
   "source": [
    "Agora um exemplo de resultado quando a operação não é executada corretamente<br/>\n",
    "Colocar um ativo que não existe: PETR2"
   ]
  },
  {
   "cell_type": "code",
   "execution_count": null,
   "id": "40cf5932-4797-43c8-98a2-1d8c7de0aec0",
   "metadata": {
    "id": "40cf5932-4797-43c8-98a2-1d8c7de0aec0",
    "outputId": "e6e7258d-84db-4061-96d6-926bd2a454ef"
   },
   "outputs": [],
   "source": [
    "symbol_fake = \"PETR2\"\n",
    "mt5.symbol_select(symbol,True)\n",
    "symbol_info = mt5.symbol_info(symbol)\n",
    "\n",
    "ordem_fake = {\n",
    "    \"action\": mt5.TRADE_ACTION_DEAL,\n",
    "    \"symbol\": symbol_fake,\n",
    "    \"volume\": qtd,\n",
    "    \"type\": mt5.ORDER_TYPE_BUY,\n",
    "    \"price\": preco,\n",
    "    \"sl\": preco - 100 * tick_min,\n",
    "    \"tp\": preco + 100 * tick_min,\n",
    "    \"deviation\": 0,\n",
    "    \"magic\": 1,\n",
    "    \"comment\": \"Primeiros trades Python\",\n",
    "    \"type_time\": mt5.ORDER_TIME_DAY,\n",
    "    \"type_filling\": mt5.ORDER_FILLING_RETURN,\n",
    "}\n",
    "\n",
    "result_fake = mt5.order_send(ordem_fake)\n",
    "\n",
    "print(\"1. Ordem_enviada(): para {}, {} ações a {} com tolerancia de {} pontos\".format(symbol_fake,qtd,preco,desvio_toler));\n",
    "\n",
    "## Se ordem não pôde ser enviada, informar os detalhes\n",
    "if result_fake.retcode != mt5.TRADE_RETCODE_DONE:\n",
    "    print(\"2. ENVIO DE ORDEM FALHOU !!!, retcode={}\".format(result_fake.retcode))\n",
    "   # solicitamos o resultado na forma de dicionário e exibimos elemento por elemento\n",
    "    result_fake_dict=result_fake._asdict()\n",
    "    for field in result_fake_dict.keys():\n",
    "        print(\"   {}={}\".format(field,result_fake_dict[field]))\n",
    "        #se esta for uma estrutura de uma solicitação de negociação, também a exibiremos elemento a elemento\n",
    "        if field==\"ordem_fake\":\n",
    "            traderequest_dict=result_fake_dict[field]._asdict()\n",
    "            for tradereq_filed in traderequest_dict:\n",
    "                print(\"       traderequest: {}={}\".format(tradereq_filed,traderequest_dict[tradereq_filed]))\n",
    "    print(\"CANCELAR E FECHAR\")\n",
    "\n",
    "else:\n",
    "    ## Se ordem foi executada corretamenteda informar os detalhes\n",
    "    print(\"2. ENVIO DE ORDEM EXECUTADO COM SUCESSO !!!, \", result_fake)\n",
    "    print(\"   POSITION_TICKET={}\".format(result_fake.order))"
   ]
  },
  {
   "cell_type": "markdown",
   "id": "572888fe-415d-4b2d-aa97-552987754d93",
   "metadata": {
    "id": "572888fe-415d-4b2d-aa97-552987754d93",
    "tags": []
   },
   "source": [
    "### 2.7 Verificar as posições abertas"
   ]
  },
  {
   "cell_type": "markdown",
   "id": "b2e357ba-16e5-40a3-8590-8a17a0dfa602",
   "metadata": {
    "id": "b2e357ba-16e5-40a3-8590-8a17a0dfa602"
   },
   "source": [
    "Obs: Não confundir posição com ordem aberta"
   ]
  },
  {
   "cell_type": "code",
   "execution_count": null,
   "id": "4f2df72a-66a5-4bb8-a227-94b54f58ed6d",
   "metadata": {
    "id": "4f2df72a-66a5-4bb8-a227-94b54f58ed6d",
    "outputId": "476c7b07-95e9-44c7-858e-2dde468e8d1d"
   },
   "outputs": [],
   "source": [
    "# Total de posições abertas\n",
    "\n",
    "positions_total=mt5.positions_total()\n",
    "if positions_total>0:\n",
    "    print(\"Total de posições =\",positions_total)\n",
    "else:\n",
    "    print(\"Nenhuma posição encontrada\")"
   ]
  },
  {
   "cell_type": "code",
   "execution_count": null,
   "id": "7245204b-5869-40b1-ac7c-6bf5ac16d2d0",
   "metadata": {
    "id": "7245204b-5869-40b1-ac7c-6bf5ac16d2d0"
   },
   "outputs": [],
   "source": [
    "# Posição aberta para um determinado ativo\n",
    "\n",
    "ativo_positions=mt5.positions_get(group=\"*ITUB4*\")\n",
    "\n",
    "if ativo_positions==None:\n",
    "    print(\"Nenhuma posição para o ativo\\\"ITUB4\\\", error code={}\".format(mt5.last_error()))\n",
    "elif len(ativo_positions)>0:\n",
    "    print(\"Posições para o ativo \\\"ITUB4\\\") = {}\".format(len(ativo_positions)))\n",
    "    # exibimos essas posições como uma tabela usando pandas.DataFrame\n",
    "    df=pd.DataFrame(list(ativo_positions),columns=ativo_positions[0]._asdict().keys())\n",
    "    df['time'] = pd.to_datetime(df['time'], unit='s')\n",
    "    df.drop(['time_update', 'time_msc', 'time_update_msc', 'external_id'], axis=1, inplace=True)\n",
    "    print(df)"
   ]
  },
  {
   "cell_type": "markdown",
   "id": "b04a150d-eb48-4660-8ecc-b75257c881f0",
   "metadata": {
    "id": "b04a150d-eb48-4660-8ecc-b75257c881f0"
   },
   "source": [
    "### 2.8 Ordem para encerrar a compra executada anteriormente"
   ]
  },
  {
   "cell_type": "code",
   "execution_count": null,
   "id": "456ce726-60ca-46f5-bbff-bc79331107cc",
   "metadata": {
    "id": "456ce726-60ca-46f5-bbff-bc79331107cc",
    "outputId": "48be400a-1f1e-4541-849f-81e331f43f2a"
   },
   "outputs": [],
   "source": [
    "# Acessar o número da ordem executada anteriormente\n",
    "# Relebrando a variável ==> result = mt5.order_check(ordem_compra)\n",
    "\n",
    "position_id=result_compra.order\n",
    "position_id"
   ]
  },
  {
   "cell_type": "code",
   "execution_count": null,
   "id": "babd99d9-57cf-419b-880c-b232c41fa567",
   "metadata": {
    "id": "babd99d9-57cf-419b-880c-b232c41fa567",
    "outputId": "cd45958f-0def-431a-e41d-8f250f8e0a59"
   },
   "outputs": [],
   "source": [
    "# Detalhamento da ordem de compra executada\n",
    "\n",
    "result_compra.request"
   ]
  },
  {
   "cell_type": "markdown",
   "id": "fdc024cb-3561-4360-9d9d-5bbca84ed056",
   "metadata": {
    "id": "fdc024cb-3561-4360-9d9d-5bbca84ed056"
   },
   "source": [
    "Parâmetros para a ordem de venda (fechamento da ordem de compra já executada). <br/>\n",
    "Não sei bem o motivo, mas as vezes, se nao repetirmos os parâmetros aqui, não roda <br/>\n",
    "Executar venda a mercado com o preço bid (melhor oferta de compra)"
   ]
  },
  {
   "cell_type": "code",
   "execution_count": null,
   "id": "0d9a1b38-e933-4d9b-966d-6e15c9b32d32",
   "metadata": {
    "id": "0d9a1b38-e933-4d9b-966d-6e15c9b32d32"
   },
   "outputs": [],
   "source": [
    "# Parâmetros para a ordem de venda (fechamento da ordem de compra já executada)\n",
    "\n",
    "symbol='ITUB4'\n",
    "qtd= 500.0\n",
    "position_id=result_compra.order\n",
    "preco_sell=mt5.symbol_info_tick(symbol).bid\n",
    "desvio_toler = 20\n",
    "\n",
    "ordem_fechamento={\n",
    "    \"action\": mt5.TRADE_ACTION_DEAL,\n",
    "    \"symbol\": symbol,\n",
    "    \"volume\": qtd,\n",
    "    \"type\": mt5.ORDER_TYPE_SELL,\n",
    "    \"position\": position_id,\n",
    "    \"price\": preco_sell,\n",
    "    \"deviation\": desvio_toler,\n",
    "    \"magic\": 1,\n",
    "    \"comment\": \"Primeiros trades Python\",\n",
    "    \"type_time\": mt5.ORDER_TIME_GTC,\n",
    "    \"type_filling\": mt5.ORDER_FILLING_RETURN,\n",
    "}\n",
    "\n",
    "# Executar ordem estabelecida acima\n",
    "\n",
    "result_fechamento = mt5.order_send(ordem_fechamento)"
   ]
  },
  {
   "cell_type": "code",
   "execution_count": null,
   "id": "987a1e22-a6f6-4c0b-94b7-ed3e77cc3b32",
   "metadata": {
    "id": "987a1e22-a6f6-4c0b-94b7-ed3e77cc3b32",
    "outputId": "99fa406f-8e60-425f-81f8-89f77ebdd4d4"
   },
   "outputs": [],
   "source": [
    "# Verificar o resultado da execução\n",
    "\n",
    "print(\"3. Fechamento posição #{}: venda {} {} açoes a {} com tolerância {} pontos\".format(position_id,symbol,qtd,preco_sell,desvio_toler));\n",
    "\n",
    "if result_fechamento.retcode != mt5.TRADE_RETCODE_DONE:\n",
    "    print(\"4. FECHAMENTO DE ORDEM FALHOU, retcode={}\".format(result_fechamento.retcode))\n",
    "    print(\"   result\",result_fechamento)\n",
    "else:\n",
    "    print(\"4. POSIÇÃO ENCERRADA COM SUCESSO referente à ordem #{} closed, {}\".format(position_id,result_fechamento))\n",
    "   # solicitamos o resultado na forma de dicionário e exibimos elemento por elemento\n",
    "    result_dict=result_fechamento._asdict()\n",
    "    for field in result_dict.keys():\n",
    "        print(\"   {}={}\".format(field,result_dict[field]))\n",
    "        #se esta for uma estrutura de uma solicitação de negociação, também a exibiremos elemento a elemento\n",
    "        if field==\"ordem_fechamento\":\n",
    "            traderequest_dict=result_dict[field]._asdict()\n",
    "            for tradereq_filed in traderequest_dict:\n",
    "                print(\"       traderequest: {}={}\".format(tradereq_filed,traderequest_dict[tradereq_filed]))"
   ]
  },
  {
   "cell_type": "code",
   "execution_count": null,
   "id": "95e133df-2dd9-4bcf-a1b0-8b1b6dc093a6",
   "metadata": {
    "id": "95e133df-2dd9-4bcf-a1b0-8b1b6dc093a6",
    "outputId": "ac8c5ef8-bbea-4b7e-b644-c6b94fd8bee6"
   },
   "outputs": [],
   "source": [
    "# Total de posições abertas\n",
    "\n",
    "positions_total=mt5.positions_total()\n",
    "if positions_total>0:\n",
    "    print(\"Total de posições =\",positions_total)\n",
    "else:\n",
    "    print(\"Nenhuma posição encontrada\")"
   ]
  },
  {
   "cell_type": "markdown",
   "id": "1d96df71-7891-4d92-9b63-e5b6cfd0ed61",
   "metadata": {
    "id": "1d96df71-7891-4d92-9b63-e5b6cfd0ed61"
   },
   "source": [
    "### 2.9 Histórico de ordens e trades"
   ]
  },
  {
   "cell_type": "markdown",
   "id": "28285546-62a7-4b69-9ec0-49f57005eaa5",
   "metadata": {
    "id": "28285546-62a7-4b69-9ec0-49f57005eaa5"
   },
   "source": [
    "Ordens"
   ]
  },
  {
   "cell_type": "code",
   "execution_count": null,
   "id": "e618daac-d218-4186-a236-7ef75e53f137",
   "metadata": {
    "id": "e618daac-d218-4186-a236-7ef75e53f137",
    "outputId": "9d4a7b00-842f-4ca3-92a1-62ab9211b6af"
   },
   "outputs": [],
   "source": [
    "# Histórico geral de ordens\n",
    "\n",
    "from_date=datetime(2022,1,1)\n",
    "to_date=datetime.now()\n",
    "\n",
    "history_orders=mt5.history_orders_total(from_date, datetime.now())\n",
    "\n",
    "if history_orders>0:\n",
    "    print(\"Histórico de ordens de\",from_date,\"a\",to_date,\" = \",history_orders,\"ordens\")\n",
    "else:\n",
    "    print(\"Nenhum histórico encontrado para esse período\")"
   ]
  },
  {
   "cell_type": "markdown",
   "id": "bf40eeb4-f0fd-466b-a0a7-8343a8767b39",
   "metadata": {
    "id": "bf40eeb4-f0fd-466b-a0a7-8343a8767b39"
   },
   "source": [
    "Trades realizados"
   ]
  },
  {
   "cell_type": "code",
   "execution_count": null,
   "id": "c672c9e0-ed31-4d84-9c1f-90c377b6b02d",
   "metadata": {
    "id": "c672c9e0-ed31-4d84-9c1f-90c377b6b02d",
    "outputId": "abdf6862-2a2c-40ca-e0c4-e7aa3d32e59b"
   },
   "outputs": [],
   "source": [
    "# Obtemos o número de transações no histórico\n",
    "\n",
    "from_date=datetime(2020,1,1)\n",
    "to_date=datetime.now()\n",
    "deals=mt5.history_deals_total(from_date, to_date)\n",
    "if deals>0:\n",
    "    print(\"Total trades =\",deals)\n",
    "else:\n",
    "    print(\"Não foram encontradas transações nesse período\")"
   ]
  },
  {
   "cell_type": "code",
   "execution_count": null,
   "id": "d80371be-0c76-4614-aa86-3469e768b5a7",
   "metadata": {
    "id": "d80371be-0c76-4614-aa86-3469e768b5a7",
    "outputId": "57c4a606-66b5-4cd9-daf8-255e1f878b04"
   },
   "outputs": [],
   "source": [
    "# Histórico de ordens para um ativo específico\n",
    "\n",
    "from_date=datetime(2022,1,1)\n",
    "to_date=datetime.now()\n",
    "\n",
    "history_orders=mt5.history_orders_get(from_date, to_date, group=\"*ITUB4*\")\n",
    "\n",
    "if history_orders==None:\n",
    "    print(\"Nenhum histórico encontrado para esse período e=\\\"*ITUB4*\\\", error code={}\".format(mt5.last_error()))\n",
    "elif len(history_orders)>0:\n",
    "    print(\"history_orders_get({}, {}, group=\\\"*ITUB4*\\\")={}\".format(from_date,to_date,len(history_orders)))\n",
    "print()\n",
    "\n",
    "# Exibimos essas posições como uma tabela usando pandas.DataFrame\n",
    "df=pd.DataFrame(list(history_orders),columns=history_orders[0]._asdict().keys())\n",
    "\n",
    "# Caso queira excluir alguma coluna que achar desnacessária\n",
    "# df.drop(['time_expiration','type_time','state','position_by_id','reason','volume_current','price_stoplimit','sl','tp'], axis=1, inplace=True)\n",
    "\n",
    "df['time_setup'] = pd.to_datetime(df['time_setup'], unit='s')\n",
    "#df['time_setup_msc'] = pd.to_datetime(df['time_setup_msc'], unit='s')\n",
    "df['time_done'] = pd.to_datetime(df['time_done'], unit='s')\n",
    "print(df)"
   ]
  },
  {
   "cell_type": "markdown",
   "id": "2a12e900-4068-4971-8200-836520c1abc0",
   "metadata": {
    "id": "2a12e900-4068-4971-8200-836520c1abc0"
   },
   "source": [
    "Exibir todas as ordens históricas de um ativo<br/>"
   ]
  },
  {
   "cell_type": "markdown",
   "id": "aa81e188-b6c8-40ee-ba4d-2d4615359cc9",
   "metadata": {
    "id": "aa81e188-b6c8-40ee-ba4d-2d4615359cc9"
   },
   "source": [
    "Transações efetivadas"
   ]
  },
  {
   "cell_type": "code",
   "execution_count": null,
   "id": "cf3e5212-e173-49d2-8b01-3327cb2bf8f8",
   "metadata": {
    "id": "cf3e5212-e173-49d2-8b01-3327cb2bf8f8",
    "outputId": "89a7b219-583d-4f1d-82f4-1819bbd766ac"
   },
   "outputs": [],
   "source": [
    "# Histórico de trades para um ativo específico\n",
    "\n",
    "from_date=datetime(2022,1,1)\n",
    "to_date=datetime.now()\n",
    "\n",
    "history_deals=mt5.history_deals_get(from_date, to_date, group=\"*ITUB4*\")\n",
    "\n",
    "if history_deals==None:\n",
    "    print(\"Nenhum histórico de trades encontrado para esse período e=\\\"*ITUB4*\\\", error code = {}\".format(mt5.last_error()))\n",
    "elif len(history_orders)>0:\n",
    "    print(\"history_deals_get({}, {}, group=\\\"*ITUB4*\\\")={}\".format(from_date,to_date,len(history_deals)))\n",
    "print()\n",
    "\n",
    "# Exibimos essas posições como uma tabela usando pandas.DataFrame\n",
    "df=pd.DataFrame(list(history_deals),columns=history_deals[0]._asdict().keys())\n",
    "\n",
    "# Caso queira excluir alguma coluna que achar desnacessária\n",
    "# df.drop(['time_expiration','type_time','state','position_by_id','reason','volume_current','price_stoplimit','sl','tp'], axis=1, inplace=True)\n",
    "\n",
    "df['time'] = pd.to_datetime(df['time'], unit='s')\n",
    "print(df)"
   ]
  },
  {
   "cell_type": "code",
   "execution_count": null,
   "id": "a6ba6b17-87e5-4d19-92fe-c42eb93de1a9",
   "metadata": {
    "id": "a6ba6b17-87e5-4d19-92fe-c42eb93de1a9"
   },
   "outputs": [],
   "source": [
    "df.to_excel(\"Output_trades.xlsx\", sheet_name='Ativo1')"
   ]
  },
  {
   "cell_type": "code",
   "execution_count": null,
   "id": "8e8d8758-e7ba-4808-8e45-4a87ef74ea9f",
   "metadata": {
    "id": "8e8d8758-e7ba-4808-8e45-4a87ef74ea9f"
   },
   "outputs": [],
   "source": [
    "## https://www.mql5.com/pt/docs/integration/python_metatrader5/mt5ordercheck_py"
   ]
  },
  {
   "cell_type": "markdown",
   "id": "c8eddbff-4325-412b-876f-21f83bd490e1",
   "metadata": {
    "id": "c8eddbff-4325-412b-876f-21f83bd490e1"
   },
   "source": [
    "## 3. Trade automatizado (criando robôs no MT5 com Python)"
   ]
  },
  {
   "cell_type": "code",
   "execution_count": null,
   "id": "22280b6e-afbb-42c1-99f5-c001c0f34474",
   "metadata": {
    "id": "22280b6e-afbb-42c1-99f5-c001c0f34474",
    "tags": []
   },
   "outputs": [],
   "source": [
    "# Estabelecer a conexão ao MetaTrader 5\n",
    "\n",
    "mt5.initialize()\n",
    "\n",
    "# Definimos o fuso horário da B3 - Brasil\n",
    "\n",
    "timezone = pytz.timezone(\"America/Sao_Paulo\")"
   ]
  },
  {
   "cell_type": "code",
   "execution_count": null,
   "id": "813c4d58-4bf8-4166-9670-cec79d19d013",
   "metadata": {
    "id": "813c4d58-4bf8-4166-9670-cec79d19d013",
    "outputId": "c3f2243e-b3b3-4526-d2ad-11412d132616"
   },
   "outputs": [],
   "source": [
    "# Definir data inicial e data e hora atual, neste formato\n",
    "# Observe que a variável data_hora_atual possui data, hora, minutos, segundos e microsegundos\n",
    "\n",
    "data_inicio = datetime(2022,1,1, tzinfo=timezone)\n",
    "data_hora_atual = datetime.today()\n",
    "data_hora_atual"
   ]
  },
  {
   "cell_type": "markdown",
   "id": "56db8bc3-adf7-4665-aca0-e3e6855d7a9f",
   "metadata": {
    "id": "56db8bc3-adf7-4665-aca0-e3e6855d7a9f"
   },
   "source": [
    "Extrair a cotação em tempo real de um ativo (ex., WINJ22), executando em intervalos de 5 em 5 segundos.<p>\n",
    "Para não se tornar um loop infinito, vamos iniciar uma contagem do 0 e pedir que a cada extração ele adicione 1 a essa contagem.<p>\n",
    "O loop deverá ser executado até que a contagem chegue a 5.<p>"
   ]
  },
  {
   "cell_type": "code",
   "execution_count": null,
   "id": "06e63a04-d7b9-4a41-aa29-0a84c4452c3a",
   "metadata": {
    "id": "06e63a04-d7b9-4a41-aa29-0a84c4452c3a"
   },
   "outputs": [],
   "source": [
    "import sys"
   ]
  },
  {
   "cell_type": "code",
   "execution_count": null,
   "id": "c32d77bb-a78f-4e66-a6dc-b41e7fe411c4",
   "metadata": {
    "id": "c32d77bb-a78f-4e66-a6dc-b41e7fe411c4",
    "outputId": "261bbf2a-4e72-4ddf-8892-5d5fff91dd5f"
   },
   "outputs": [],
   "source": [
    "count_cotacoes = 0\n",
    "\n",
    "while count_cotacoes < 5:\n",
    "    ativo = mt5.symbol_info_tick(\"WINJ22\")\n",
    "    print(\"\\r\" + str(ativo.last))\n",
    "    sys.stdout.flush()\n",
    "    count_cotacoes += 1\n",
    "    time.sleep(5)"
   ]
  },
  {
   "cell_type": "code",
   "execution_count": null,
   "id": "918f6501-ef3e-4272-80bf-148d7f526086",
   "metadata": {
    "id": "918f6501-ef3e-4272-80bf-148d7f526086"
   },
   "outputs": [],
   "source": [
    "# Acessar o último tick do ativo\n",
    "\n",
    "ativo.last"
   ]
  },
  {
   "cell_type": "code",
   "execution_count": null,
   "id": "ed5fb419-188b-439e-902b-9ebf5e43ae40",
   "metadata": {
    "id": "ed5fb419-188b-439e-902b-9ebf5e43ae40"
   },
   "outputs": [],
   "source": [
    "datetime.today()"
   ]
  },
  {
   "cell_type": "code",
   "execution_count": null,
   "id": "3c66956c-01b9-4c99-961a-b3f7faca611a",
   "metadata": {
    "id": "3c66956c-01b9-4c99-961a-b3f7faca611a"
   },
   "outputs": [],
   "source": [
    "# Agora vamos gerar uma estrutura de dataframe em tempo real, extraindo a cotação e calculando um indicador (ex., MM 9 períodos) em um timeframe específico (ex., 1min)\n",
    "\n",
    "symbol='WINJ22'\n",
    "cotacoes_ativo = mt5.copy_rates_range(symbol, mt5.TIMEFRAME_M1, data_inicio,datetime.today())\n",
    "cotacoes_df = pd.DataFrame(cotacoes_ativo)\n",
    "cotacoes_df['time']=pd.to_datetime(cotacoes_df['time'], unit='s')\n",
    "cotacoes_df.index = cotacoes_df['time']\n",
    "\n",
    "## Cálculo Média Móvel de 9 períodos\n",
    "MM_periodo = 9\n",
    "MMA = cotacoes_df['close'].rolling(window=MM_periodo).mean()\n",
    "MMA_3 = cotacoes_df['close'].rolling(window=3).mean()\n",
    "cotacoes_df['MMA_9p'] = MMA\n",
    "cotacoes_df['MMA_3p'] = MMA_3\n",
    "cotacoes_df.tail(20)"
   ]
  },
  {
   "cell_type": "code",
   "execution_count": null,
   "id": "052fe804-c81c-407c-a399-1b94d22cba98",
   "metadata": {
    "id": "052fe804-c81c-407c-a399-1b94d22cba98"
   },
   "outputs": [],
   "source": [
    "# Plotar os últimos 10 candles juntamente com a média móvel de 9 períodos\n",
    "\n",
    "cotacoes_df2 = cotacoes_df[-10:]\n",
    "\n",
    "fig_cotacoes = go.Figure(data=[go.Candlestick(name=\"PETR4\",x=cotacoes_df2.index, open=cotacoes_df2['open'], high = cotacoes_df2['high'], low=cotacoes_df2['low'], close=cotacoes_df2['close'])])\n",
    "\n",
    "fig_cotacoes.add_trace(go.Scatter(name='MMA_9p', x=cotacoes_df2.index, y=cotacoes_df2.MMA_9p, marker_color='blue'))\n",
    "fig_cotacoes.add_trace(go.Scatter(name='MMA_3p', x=cotacoes_df2.index, y=cotacoes_df2.MMA_3p, marker_color='red'))\n",
    "\n",
    "fig_cotacoes.update_yaxes(title_text=\"<b> Preço Ativo (R$)\")\n",
    "fig_cotacoes.update_layout(xaxis_rangeslider_visible=False, title_text='Grafico Candlestick Ativo',template = 'simple_white',width=500,height=500,showlegend=True)\n",
    "fig_cotacoes.show()"
   ]
  },
  {
   "cell_type": "markdown",
   "id": "54f4aa1b-4c9a-4b8e-9ee4-4c02da436d0b",
   "metadata": {
    "id": "54f4aa1b-4c9a-4b8e-9ee4-4c02da436d0b"
   },
   "source": [
    "Para aumentar a complexidade do código, incluindo a estrutura da ordem de compra. Dessa vez o output será o horário atual, o preço de fechamento do último candle, o valor da MM e se teriamos ou não um sinal de compra/venda <p>\n",
    "Nesse caso, assim que surgir um sinal de compra/venda finalizaremos a extração dos dados"
   ]
  },
  {
   "cell_type": "code",
   "execution_count": null,
   "id": "237c9e74-a15f-417d-b4b3-f35563451d38",
   "metadata": {
    "id": "237c9e74-a15f-417d-b4b3-f35563451d38"
   },
   "outputs": [],
   "source": [
    "contador_sinais = 0\n",
    "posição = 0\n",
    "\n",
    "while (contador_sinais < 20) and (posição == 0):\n",
    "    contador_sinais += 1\n",
    "    print(\"-----------------------------------------------------\")\n",
    "    print(\"A hora atual é\",datetime.today())\n",
    "    \n",
    "    symbol='PETR4'\n",
    "    cotacoes_ativo = mt5.copy_rates_range(symbol, mt5.TIMEFRAME_M1, data_inicio,datetime.today())\n",
    "    cotacoes_df = pd.DataFrame(cotacoes_ativo)\n",
    "    cotacoes_df['time']=pd.to_datetime(cotacoes_df['time'], unit='s')\n",
    "    cotacoes_df.index = cotacoes_df['time']\n",
    "\n",
    "    ## Cálculo Média Móvel de 3 períodos (para agilizar a ocorrência de um sinal de entrada)\n",
    "    MM_periodo = 5\n",
    "    MMA = cotacoes_df['close'].rolling(window=MM_periodo).mean()\n",
    "    cotacoes_df['MMA'] = MMA\n",
    "    \n",
    "    print(\"O preço de fechamento anterior havia sido de\",cotacoes_df.close[-2],\"e a MM_3p estava em\",cotacoes_df.MMA[-2])\n",
    "    print(\"O preço de fechamento atual foi\",cotacoes_df.close[-1],\"e a MM_3p está em\",cotacoes_df.MMA[-1])\n",
    "    \n",
    "    if (cotacoes_df.close[-1] > cotacoes_df.MMA[-1]) and (cotacoes_df.close[-2] < cotacoes_df.MMA[-2]):\n",
    "        print(\"Sinal de entrada COMPRA\")\n",
    "        posição = 1\n",
    "        time.sleep(15)\n",
    "    elif (cotacoes_df.close[-1] < cotacoes_df.MMA[-1]) and (cotacoes_df.close[-2] > cotacoes_df.MMA[-2]):\n",
    "        print(\"Sinal de entrada VENDA\")\n",
    "        posição = -1\n",
    "        time.sleep(15)\n",
    "    else:\n",
    "        print(\"Nada a fazer nesse momento. Aguarde a próxima extração em 15 seg\")\n",
    "        time.sleep(15)"
   ]
  },
  {
   "cell_type": "code",
   "execution_count": null,
   "id": "c9859f4a-c137-4f30-aab3-c4bd63b487e3",
   "metadata": {
    "id": "c9859f4a-c137-4f30-aab3-c4bd63b487e3"
   },
   "outputs": [],
   "source": [
    "# Plotar os últimos 10 candles juntamente com a média móvel de 3 períodos\n",
    "\n",
    "cotacoes_df2 = cotacoes_df[-10:]\n",
    "\n",
    "fig_cotacoes = go.Figure(data=[go.Candlestick(name=\"PETR4\",x=cotacoes_df2.index, open=cotacoes_df2['open'], high = cotacoes_df2['high'], low=cotacoes_df2['low'], close=cotacoes_df2['close'])])\n",
    "\n",
    "fig_cotacoes.add_trace(go.Scatter(name='MMA', x=cotacoes_df2.index, y=cotacoes_df2.MMA, marker_color='blue'))\n",
    "\n",
    "fig_cotacoes.update_yaxes(title_text=\"<b> Preço Ativo (R$)\")\n",
    "fig_cotacoes.update_layout(xaxis_rangeslider_visible=False, title_text='Grafico Candlestick Ativo',template = 'simple_white',width=500,height=500,showlegend=True)\n",
    "fig_cotacoes.show()"
   ]
  },
  {
   "cell_type": "markdown",
   "id": "1179e161-0a18-453d-b466-018c8645c8c8",
   "metadata": {
    "id": "1179e161-0a18-453d-b466-018c8645c8c8"
   },
   "source": [
    "Agora executando ordens de compra ou venda direto no MT5 quando o sinal surge"
   ]
  },
  {
   "cell_type": "code",
   "execution_count": null,
   "id": "215cfc7d-f055-4a54-8734-6e47e072e364",
   "metadata": {
    "id": "215cfc7d-f055-4a54-8734-6e47e072e364"
   },
   "outputs": [],
   "source": [
    "contador_sinais = 0\n",
    "posição = 0\n",
    "\n",
    "while (contador_sinais < 20) and (posição == 0):\n",
    "    contador_sinais += 1\n",
    "    print(\"-----------------------------------------------------\")\n",
    "    print(\"A hora atual é\",datetime.today())\n",
    "    \n",
    "    symbol='WINJ22'\n",
    "    cotacoes_ativo = mt5.copy_rates_range(symbol, mt5.TIMEFRAME_M1, data_inicio,datetime.today())\n",
    "    cotacoes_df = pd.DataFrame(cotacoes_ativo)\n",
    "    cotacoes_df['time']=pd.to_datetime(cotacoes_df['time'], unit='s')\n",
    "    cotacoes_df.index = cotacoes_df['time']\n",
    "\n",
    "    ## Cálculo Média Móvel de 3 períodos (para agilizar a ocorrência de um sinal de entrada)\n",
    "    MM_periodo = 3\n",
    "    MMA = cotacoes_df['close'].rolling(window=MM_periodo).mean()\n",
    "    cotacoes_df['MMA'] = MMA\n",
    "    \n",
    "    qtd = 1.0\n",
    "    tick_min = mt5.symbol_info(symbol).point\n",
    "    preco_compra = mt5.symbol_info_tick(symbol).ask\n",
    "    preco_venda = mt5.symbol_info_tick(symbol).bid\n",
    "    desvio_toler = 0\n",
    "\n",
    "    ordem_compra = {\n",
    "        \"action\": mt5.TRADE_ACTION_DEAL, # tipo de ordem (a mercado)\n",
    "        \"symbol\": symbol, # ativo\n",
    "        \"volume\": qtd, # qtd\n",
    "        \"type\": mt5.ORDER_TYPE_BUY, # compra a mercado\n",
    "        \"price\": preco_compra, # preço de compra, aqui definido como ask do ativo (melhor preço de venda do book)\n",
    "        \"sl\": preco_compra - 100 * tick_min, #stop loss (preço de entrada - 100 ticks mínimos)\n",
    "        \"tp\": preco_compra + 100 * tick_min, #take profit (preço de entrada + 100 ticks mínimos)\n",
    "        \"deviation\": desvio_toler, #ordem offset\n",
    "        \"magic\": 1, # identificar a operação (opcional)\n",
    "        \"comment\": \"Trades automatizados Python\", # comentario para a ordem (opcional)\n",
    "        \"type_time\": mt5.ORDER_TIME_DAY, # 'validade' da ordem. Nesse caso, ordem será válida apenas durante o dia de negociação atual\n",
    "        \"type_filling\": mt5.ORDER_FILLING_RETURN, # ordem pode ser executada parcialmente, e manter o residual nao executado para uma nova entrada\n",
    "    }\n",
    "    \n",
    "    ordem_venda = {\n",
    "        \"action\": mt5.TRADE_ACTION_DEAL, # tipo de ordem (a mercado)\n",
    "        \"symbol\": symbol, # ativo\n",
    "        \"volume\": qtd, # qtd\n",
    "        \"type\": mt5.ORDER_TYPE_SELL, # venda a mercado\n",
    "        \"price\": preco_venda, # preço de compra, aqui definido como ask do ativo (melhor preço de venda do book)\n",
    "        \"sl\": preco_venda + 100 * tick_min, #stop loss (preço de entrada - 100 ticks mínimos)\n",
    "        \"tp\": preco_venda - 100 * tick_min, #take profit (preço de entrada + 100 ticks mínimos)\n",
    "        \"deviation\": desvio_toler, #ordem offset\n",
    "        \"magic\": 1, # identificar a operação (opcional)\n",
    "        \"comment\": \"Primeiros trades Python\", # comentario para a ordem (opcional)\n",
    "        \"type_time\": mt5.ORDER_TIME_DAY, # 'validade' da ordem. Nesse caso, ordem será válida apenas durante o dia de negociação atual\n",
    "        \"type_filling\": mt5.ORDER_FILLING_RETURN, # ordem pode ser executada parcialmente, e manter o residual nao executado para uma nova entrada\n",
    "    }\n",
    "    \n",
    "    print(\"O preço de fechamento anterior havia sido de\",cotacoes_df.close[-2],\"e a MM_3p estava em\",cotacoes_df.MMA[-2])\n",
    "    print(\"O preço de fechamento atual está em\",cotacoes_df.close[-1],\"e a MM_3p está em\",cotacoes_df.MMA[-1])\n",
    "    \n",
    "    if (cotacoes_df.close[-1] > cotacoes_df.MMA[-1]) and (cotacoes_df.close[-2] < cotacoes_df.MMA[-2]):\n",
    "        print(\"Sinal de entrada: COMPRA\")\n",
    "        mt5.order_send(ordem_compra)\n",
    "        print(\"COMPRA executada com sucesso!\")\n",
    "        print(\"A ordem OCO do Stoploss está no preço:\",(preco_venda - 100 * tick_min))\n",
    "        print(\"A ordem OCO do Take Profit está no preço:\",(preco_venda + 100 * tick_min))\n",
    "        posição = 1\n",
    "        time.sleep(15)\n",
    "        \n",
    "    elif (cotacoes_df.close[-1] < cotacoes_df.MMA[-1]) and (cotacoes_df.close[-2] > cotacoes_df.MMA[-2]):\n",
    "        print(\"Sinal de entrada: VENDA\")\n",
    "        mt5.order_send(ordem_venda)\n",
    "        print(\"VENDA executada com sucesso!\")\n",
    "        print(\"A ordem OCO do Stoploss está no preço:\",(preco_venda + 100 * tick_min))\n",
    "        print(\"A ordem OCO do Take Profit está no preço:\",((preco_venda - 100 * tick_min)))\n",
    "        posição = -1\n",
    "        time.sleep(15)\n",
    "        \n",
    "    else:\n",
    "        print(\"Nada a fazer nesse momento. Aguarde a próxima extração em 15 seg\")\n",
    "        time.sleep(15)"
   ]
  },
  {
   "cell_type": "code",
   "execution_count": null,
   "id": "b25a6ccb-1a63-4e3e-ae61-834caef5845c",
   "metadata": {
    "id": "b25a6ccb-1a63-4e3e-ae61-834caef5845c"
   },
   "outputs": [],
   "source": [
    "# Visualizar a ordem executada e os alvos, seja de ganho (Take Profit) ou de perda (Stop Loss)\n",
    "\n",
    "cotacoes_df2 = cotacoes_df[-10:]\n",
    "\n",
    "fig_cotacoes = go.Figure(data=[go.Candlestick(name=\"WINJ22\",x=cotacoes_df2.index, open=cotacoes_df2['open'], high = cotacoes_df2['high'], low=cotacoes_df2['low'], close=cotacoes_df2['close'])])\n",
    "fig_cotacoes.add_trace(go.Scatter(name='MMA', x=cotacoes_df2.index, y=cotacoes_df2.MMA, marker_color='blue'))\n",
    "\n",
    "#fig_cotacoes.add_annotation(x=cotacoes_df2.index[-1],y=(preco_venda + 100 * tick_min), xref=\"x\",yref=\"y\",text=\"<b>Stop Loss\",showarrow=True,font=dict(family=\"Arial\",size=12,color=\"black\"),align=\"center\",arrowhead=2,\n",
    "#                   arrowsize=1,arrowwidth=2,arrowcolor=\"black\")\n",
    "#fig_cotacoes.add_annotation(x=cotacoes_df2.index[-1],y=(preco_venda - 100 * tick_min), xref=\"x\",yref=\"y\",text=\"<b>Take Profit\",showarrow=True,font=dict(family=\"Arial\",size=12,color=\"black\"),align=\"center\",arrowhead=2,\n",
    "#                   arrowsize=1,arrowwidth=2,arrowcolor=\"black\")\n",
    "fig_cotacoes.add_trace(go.Scatter(x=[cotacoes_df2.index[-3],cotacoes_df2.index[-1]],y=[(preco_venda - 100 * tick_min),(preco_venda - 100 * tick_min)], mode=\"lines+text\", name=\"Take Profit\",\n",
    "                         line = dict(color='green', width=2, dash='dash')))\n",
    "fig_cotacoes.add_trace(go.Scatter(x=[cotacoes_df2.index[-3],cotacoes_df2.index[-1]],y=[(preco_venda + 100 * tick_min),(preco_venda + 100 * tick_min)], mode=\"lines+text\", name=\"Stop Loss\",\n",
    "                         line = dict(color='red', width=2, dash='dash')))\n",
    "\n",
    "fig_cotacoes.update_yaxes(title_text=\"<b> Preço Ativo (R$)\")\n",
    "fig_cotacoes.update_layout(xaxis_rangeslider_visible=False, title_text='Grafico Candlestick ordem executada',template = 'simple_white',width=500,height=500,showlegend=True)\n",
    "fig_cotacoes.show()"
   ]
  },
  {
   "cell_type": "code",
   "execution_count": null,
   "id": "aee410ef",
   "metadata": {
    "id": "aee410ef"
   },
   "outputs": [],
   "source": []
  }
 ],
 "metadata": {
  "colab": {
   "name": "Python para Traders - Módulo 03 - Python & MetaTrader 5.ipynb",
   "provenance": []
  },
  "kernelspec": {
   "display_name": "Python 3 (ipykernel)",
   "language": "python",
   "name": "python3"
  },
  "language_info": {
   "codemirror_mode": {
    "name": "ipython",
    "version": 3
   },
   "file_extension": ".py",
   "mimetype": "text/x-python",
   "name": "python",
   "nbconvert_exporter": "python",
   "pygments_lexer": "ipython3",
   "version": "3.9.12"
  }
 },
 "nbformat": 4,
 "nbformat_minor": 5
}
